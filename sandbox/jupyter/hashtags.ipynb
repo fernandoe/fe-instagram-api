{
 "cells": [
  {
   "cell_type": "code",
   "execution_count": 72,
   "metadata": {
    "scrolled": true
   },
   "outputs": [],
   "source": [
    "import os\n",
    "import MySQLdb\n",
    "import pandas as pd\n",
    "from collections import Counter\n",
    "import requests\n",
    "\n",
    "hostname = os.getenv('MYSQL_HOST')\n",
    "username = os.getenv('MYSQL_USER')\n",
    "password = os.getenv('MYSQL_PASSWORD')\n",
    "database = os.getenv('MYSQL_DATABASE')\n",
    "\n",
    "conn = MySQLdb.connect(host=hostname, user=username, passwd=password, db=database)\n",
    "df = pd.read_sql_query(\"SELECT tags FROM instagram_post\", conn)\n",
    "df.tail(10)\n",
    "df = df['tags']\n"
   ]
  },
  {
   "cell_type": "code",
   "execution_count": 23,
   "metadata": {},
   "outputs": [],
   "source": [
    "df.to_csv('base.csv')"
   ]
  },
  {
   "cell_type": "code",
   "execution_count": 24,
   "metadata": {},
   "outputs": [],
   "source": []
  },
  {
   "cell_type": "code",
   "execution_count": 79,
   "metadata": {},
   "outputs": [],
   "source": [
    "def others(hashtag, N):\n",
    "    '''Return a Counter type with the (input) N most commons hashtags associated with input hashtag\n",
    "    \n",
    "    Parameters\n",
    "    ----------\n",
    "    hashtag(str)\n",
    "        String format, hashtag in database.\n",
    "    N(int)\n",
    "        How much most common hashtag in descending order of occurrences.\n",
    "        \n",
    "    Return\n",
    "    ------\n",
    "    NoneType\n",
    "        The return of a Counter using the attribute most_common().\n",
    "    '''\n",
    "    temp = df.loc[df.str.contains(hashtag, regex=False)]\n",
    "    return Counter(temp.str.split().sum()).most_common(N)\n",
    "\n",
    "def show(hashtag, N):\n",
    "    '''Return a print with the (input) N most commons hashtags associated with input hashtag\n",
    "    \n",
    "    Parameters\n",
    "    ----------\n",
    "    hashtag(str)\n",
    "        String format, hashtag in database.\n",
    "    N(int)\n",
    "        How much most common hashtag in descending order of occurrences.\n",
    "        \n",
    "    Return\n",
    "    ------\n",
    "    str\n",
    "        The return a print from a list.\n",
    "    '''\n",
    "    most_common_words = [word for word, word_count in others(hashtag, N)]\n",
    "    tags = ' '.join(most_common_words)\n",
    "    requests.post('https://api-instagram.ms.codigoaberto.io/instagram/tag-priority/', data = {'tags':tags})\n",
    "    print('#' + ' #'.join(most_common_words))\n",
    "    return ' '.join(most_common_words)"
   ]
  },
  {
   "cell_type": "code",
   "execution_count": 92,
   "metadata": {},
   "outputs": [
    {
     "name": "stdout",
     "output_type": "stream",
     "text": [
      "#fitbit #fitness #weightloss #weightlossjourney #workout #motivation #gym #fitnessmotivation #fit #myfitnesspal #healthy #fitfam #abnehmen #weightlifting #slimming #caloriecounting #diet #fatloss #fitspo #healthylifestyle #healthyfood #beastmode #intermittentfasting #fooddiary #mfp #nevergiveup #abnehmen2018 #cardio #vegan #consistency\n"
     ]
    }
   ],
   "source": [
    "result1 = show('fitbit', 30)\n",
    "# result2 = show('fitbit', 10)\n",
    "# result3 = show('strava', 10)\n",
    "# result4 = show('janta', 10)\n",
    "# result5 = show('almoco', 10)\n",
    "# result6 = show('jejum', 10)\n"
   ]
  },
  {
   "cell_type": "code",
   "execution_count": 93,
   "metadata": {},
   "outputs": [
    {
     "name": "stdout",
     "output_type": "stream",
     "text": [
      "fitbit fitness weightloss weightlossjourney workout motivation gym fitnessmotivation fit myfitnesspal healthy fitfam abnehmen weightlifting slimming caloriecounting diet fatloss fitspo healthylifestyle healthyfood beastmode intermittentfasting fooddiary mfp nevergiveup abnehmen2018 cardio vegan consistency\n"
     ]
    }
   ],
   "source": [
    "result = result1 #+ \" \" + result2 + \" \" + result3 + \" \" + result4 + \" \" + result5 + \" \" + result6\n",
    "print(result)"
   ]
  },
  {
   "cell_type": "code",
   "execution_count": 97,
   "metadata": {},
   "outputs": [
    {
     "name": "stdout",
     "output_type": "stream",
     "text": [
      "#fitness #fit #workout #healthyfood #diet #weightloss #cardio #weightlossjourney #beastmode #fitbit #consistency #abnehmen #caloriecounting #abnehmen2018 \n",
      "#305711840 #127210215 #125903894 #53403701 #53382905 #50380556 #38349296 #26479448 #22836618 #4048466 #3064528 #2621983 #1464747 #398668 \n",
      "Results: 14\n"
     ]
    }
   ],
   "source": [
    "print(requests.get('https://api-instagram.ms.codigoaberto.io/instagram/tags/?tags=' + result).text)"
   ]
  },
  {
   "cell_type": "code",
   "execution_count": null,
   "metadata": {},
   "outputs": [],
   "source": []
  }
 ],
 "metadata": {
  "kernelspec": {
   "display_name": "Python 3",
   "language": "python",
   "name": "python3"
  },
  "language_info": {
   "codemirror_mode": {
    "name": "ipython",
    "version": 3
   },
   "file_extension": ".py",
   "mimetype": "text/x-python",
   "name": "python",
   "nbconvert_exporter": "python",
   "pygments_lexer": "ipython3",
   "version": "3.6.6"
  }
 },
 "nbformat": 4,
 "nbformat_minor": 2
}
