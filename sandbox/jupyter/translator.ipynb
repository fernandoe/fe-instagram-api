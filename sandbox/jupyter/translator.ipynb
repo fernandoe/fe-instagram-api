{
 "cells": [
  {
   "cell_type": "code",
   "execution_count": null,
   "metadata": {},
   "outputs": [
    {
     "name": "stdout",
     "output_type": "stream",
     "text": [
      "[\n",
      "    {\n",
      "        \"alternatives\": [\n",
      "            {\n",
      "                \"isTranslationSupported\": true,\n",
      "                \"isTransliterationSupported\": false,\n",
      "                \"language\": \"fr\",\n",
      "                \"score\": 1.0\n",
      "            },\n",
      "            {\n",
      "                \"isTranslationSupported\": true,\n",
      "                \"isTransliterationSupported\": false,\n",
      "                \"language\": \"de\",\n",
      "                \"score\": 1.0\n",
      "            }\n",
      "        ],\n",
      "        \"isTranslationSupported\": true,\n",
      "        \"isTransliterationSupported\": false,\n",
      "        \"language\": \"en\",\n",
      "        \"score\": 1.0\n",
      "    }\n",
      "]\n"
     ]
    }
   ],
   "source": [
    "# -*- coding: utf-8 -*-\n",
    "import os, requests, uuid, json\n",
    "\n",
    "subscriptionKey = '2084ddd8ecf545afb49c15c6287bc7a0'\n",
    "\n",
    "\n",
    "base_url = 'https://api.cognitive.microsofttranslator.com'\n",
    "path = '/detect?api-version=3.0'\n",
    "constructed_url = base_url + path\n",
    "\n",
    "headers = {\n",
    "    'Ocp-Apim-Subscription-Key': subscriptionKey,\n",
    "    'Content-type': 'application/json',\n",
    "    'X-ClientTraceId': str(uuid.uuid4())\n",
    "}\n",
    "\n",
    "# You can pass more than one object in body.\n",
    "body = [{\n",
    "    'text': 'casa'\n",
    "}]\n",
    "\n",
    "request = requests.post(constructed_url, headers=headers, json=body)\n",
    "response = request.json()\n",
    "\n",
    "print(json.dumps(response, sort_keys=True, indent=4, ensure_ascii=False, separators=(',', ': ')))"
   ]
  }
 ],
 "metadata": {
  "kernelspec": {
   "display_name": "Python 3",
   "language": "python",
   "name": "python3"
  },
  "language_info": {
   "codemirror_mode": {
    "name": "ipython",
    "version": 3
   },
   "file_extension": ".py",
   "mimetype": "text/x-python",
   "name": "python",
   "nbconvert_exporter": "python",
   "pygments_lexer": "ipython3",
   "version": "3.6.6"
  }
 },
 "nbformat": 4,
 "nbformat_minor": 2
}
