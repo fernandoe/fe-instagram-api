{
 "cells": [
  {
   "cell_type": "code",
   "execution_count": null,
   "metadata": {},
   "outputs": [],
   "source": [
    "import requests\n",
    "\n",
    "payload = {\n",
    "    'q': 'banana'\n",
    "}\n",
    "\n",
    "url = f\"https://api-instagram.ms.codigoaberto.io/instagram/search/\"\n",
    "response = requests.get(url, params=payload)\n",
    "data = response.json()\n",
    "\n",
    "for item in data['items']:\n",
    "    print(f\"#{item['name']}\", end=' ')\n"
   ]
  }
 ],
 "metadata": {
  "kernelspec": {
   "display_name": "Python 3",
   "language": "python",
   "name": "python3"
  },
  "language_info": {
   "codemirror_mode": {
    "name": "ipython",
    "version": 3
   },
   "file_extension": ".py",
   "mimetype": "text/x-python",
   "name": "python",
   "nbconvert_exporter": "python",
   "pygments_lexer": "ipython3",
   "version": "3.6.6"
  }
 },
 "nbformat": 4,
 "nbformat_minor": 2
}
